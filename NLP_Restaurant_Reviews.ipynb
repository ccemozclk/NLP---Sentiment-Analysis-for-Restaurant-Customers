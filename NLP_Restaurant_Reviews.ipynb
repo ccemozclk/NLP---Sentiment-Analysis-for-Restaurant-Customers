{
  "nbformat": 4,
  "nbformat_minor": 0,
  "metadata": {
    "colab": {
      "name": "NLP-Restaurant Reviews.ipynb",
      "provenance": [],
      "collapsed_sections": [
        "ID2FXfONMbve",
        "J-olN3fsMyZK",
        "nYfsZhcPNXCG",
        "9pN6ZeHwNnoL",
        "c-7oglkAOL2Y",
        "yxjw8adIOSFq",
        "qBK-FyXZO6I6",
        "ieEhUN7lQFCK",
        "hDmjjonvSWax",
        "jUT8D3OHaiaI",
        "TBbGdPJrylwP",
        "DYqk2IImzjXs",
        "_xCHUajdzm6f",
        "6ORE5g3Qz3uv",
        "gWj61K0P2bCl"
      ],
      "mount_file_id": "1GKRrXNkiNEoWZEuzK-_QCLwh84GEhfGu",
      "authorship_tag": "ABX9TyNxp0I4qfix3R6upOElLgPe",
      "include_colab_link": true
    },
    "kernelspec": {
      "name": "python3",
      "display_name": "Python 3"
    },
    "language_info": {
      "name": "python"
    }
  },
  "cells": [
    {
      "cell_type": "markdown",
      "metadata": {
        "id": "view-in-github",
        "colab_type": "text"
      },
      "source": [
        "<a href=\"https://colab.research.google.com/github/ccemozclk/NLP---Sentiment-Analysis-for-Restaurant-Customers/blob/main/NLP_Restaurant_Reviews.ipynb\" target=\"_parent\"><img src=\"https://colab.research.google.com/assets/colab-badge.svg\" alt=\"Open In Colab\"/></a>"
      ]
    },
    {
      "cell_type": "markdown",
      "metadata": {
        "id": "K0lusv7jMQ0X"
      },
      "source": [
        "# NLP - Restaurant Customers Comment -->"
      ]
    },
    {
      "cell_type": "markdown",
      "metadata": {
        "id": "ID2FXfONMbve"
      },
      "source": [
        "## Import Libraries --->"
      ]
    },
    {
      "cell_type": "code",
      "metadata": {
        "colab": {
          "base_uri": "https://localhost:8080/"
        },
        "id": "RoNdmwvBLwAK",
        "outputId": "d4f0cea8-19d2-439f-a63a-425d5a33638f"
      },
      "source": [
        "import pandas as pd\n",
        "import numpy as np\n",
        "import matplotlib.pyplot as plt\n",
        "import nltk\n",
        "\n",
        "from PIL import Image\n",
        "from nltk.corpus import stopwords\n",
        "from nltk.sentiment import SentimentIntensityAnalyzer\n",
        "\n",
        "from sklearn.ensemble import RandomForestClassifier\n",
        "from sklearn.linear_model import LogisticRegression\n",
        "from sklearn.model_selection import cross_val_score, GridSearchCV, cross_validate\n",
        "from sklearn.preprocessing import LabelEncoder\n",
        "from textblob import Word, TextBlob\n",
        "\n",
        "from wordcloud import WordCloud\n",
        "from warnings import filterwarnings\n",
        "\n",
        "nltk.download('stopwords')\n",
        "nltk.download('punkt')\n",
        "nltk.download('wordnet')\n",
        "nltk.download('vader_lexicon')"
      ],
      "execution_count": 1,
      "outputs": [
        {
          "output_type": "stream",
          "name": "stderr",
          "text": [
            "/usr/local/lib/python3.7/dist-packages/nltk/twitter/__init__.py:20: UserWarning: The twython library has not been installed. Some functionality from the twitter package will not be available.\n",
            "  warnings.warn(\"The twython library has not been installed. \"\n"
          ]
        },
        {
          "output_type": "stream",
          "name": "stdout",
          "text": [
            "[nltk_data] Downloading package stopwords to /root/nltk_data...\n",
            "[nltk_data]   Unzipping corpora/stopwords.zip.\n",
            "[nltk_data] Downloading package punkt to /root/nltk_data...\n",
            "[nltk_data]   Unzipping tokenizers/punkt.zip.\n",
            "[nltk_data] Downloading package wordnet to /root/nltk_data...\n",
            "[nltk_data]   Unzipping corpora/wordnet.zip.\n",
            "[nltk_data] Downloading package vader_lexicon to /root/nltk_data...\n"
          ]
        },
        {
          "output_type": "execute_result",
          "data": {
            "text/plain": [
              "True"
            ]
          },
          "metadata": {},
          "execution_count": 1
        }
      ]
    },
    {
      "cell_type": "code",
      "metadata": {
        "id": "W65veZ8IMwCV"
      },
      "source": [
        "filterwarnings('ignore')\n",
        "pd.set_option('display.max_columns', None)\n",
        "pd.set_option('display.width', 200)\n",
        "pd.set_option('display.float_format', lambda x: '%.2f' % x)"
      ],
      "execution_count": 2,
      "outputs": []
    },
    {
      "cell_type": "markdown",
      "metadata": {
        "id": "J-olN3fsMyZK"
      },
      "source": [
        "## Import Dataset --->"
      ]
    },
    {
      "cell_type": "code",
      "metadata": {
        "id": "b8S_sqarM12G"
      },
      "source": [
        "def load_dataset():\n",
        "  data = pd.read_csv(\"/content/drive/MyDrive/Colab Notebooks/Examples/NLP-Restaurant Reviews/Restaurant_Reviews.csv\", delimiter=\"\\t\")\n",
        "  return data\n",
        "\n",
        "df = load_dataset()"
      ],
      "execution_count": 3,
      "outputs": []
    },
    {
      "cell_type": "code",
      "metadata": {
        "id": "JetA50ZtNOBc"
      },
      "source": [
        "restaurant_df = df.copy()"
      ],
      "execution_count": 4,
      "outputs": []
    },
    {
      "cell_type": "markdown",
      "metadata": {
        "id": "nYfsZhcPNXCG"
      },
      "source": [
        "## Descriptive Statistics Of Data -->"
      ]
    },
    {
      "cell_type": "code",
      "metadata": {
        "colab": {
          "base_uri": "https://localhost:8080/",
          "height": 411
        },
        "id": "6HeI4IXzNcn5",
        "outputId": "8f6da268-3bf2-4a0b-d14f-0215c052ebf5"
      },
      "source": [
        "restaurant_df.head()"
      ],
      "execution_count": 5,
      "outputs": [
        {
          "output_type": "execute_result",
          "data": {
            "text/html": [
              "<div>\n",
              "<style scoped>\n",
              "    .dataframe tbody tr th:only-of-type {\n",
              "        vertical-align: middle;\n",
              "    }\n",
              "\n",
              "    .dataframe tbody tr th {\n",
              "        vertical-align: top;\n",
              "    }\n",
              "\n",
              "    .dataframe thead th {\n",
              "        text-align: right;\n",
              "    }\n",
              "</style>\n",
              "<table border=\"1\" class=\"dataframe\">\n",
              "  <thead>\n",
              "    <tr style=\"text-align: right;\">\n",
              "      <th></th>\n",
              "      <th>Review</th>\n",
              "      <th>Liked</th>\n",
              "    </tr>\n",
              "  </thead>\n",
              "  <tbody>\n",
              "    <tr>\n",
              "      <th>0</th>\n",
              "      <td>Wow... Loved this place.</td>\n",
              "      <td>1</td>\n",
              "    </tr>\n",
              "    <tr>\n",
              "      <th>1</th>\n",
              "      <td>Crust is not good.</td>\n",
              "      <td>0</td>\n",
              "    </tr>\n",
              "    <tr>\n",
              "      <th>2</th>\n",
              "      <td>Not tasty and the texture was just nasty.</td>\n",
              "      <td>0</td>\n",
              "    </tr>\n",
              "    <tr>\n",
              "      <th>3</th>\n",
              "      <td>Stopped by during the late May bank holiday of...</td>\n",
              "      <td>1</td>\n",
              "    </tr>\n",
              "    <tr>\n",
              "      <th>4</th>\n",
              "      <td>The selection on the menu was great and so wer...</td>\n",
              "      <td>1</td>\n",
              "    </tr>\n",
              "  </tbody>\n",
              "</table>\n",
              "</div>"
            ],
            "text/plain": [
              "                                              Review  Liked\n",
              "0                           Wow... Loved this place.      1\n",
              "1                                 Crust is not good.      0\n",
              "2          Not tasty and the texture was just nasty.      0\n",
              "3  Stopped by during the late May bank holiday of...      1\n",
              "4  The selection on the menu was great and so wer...      1"
            ]
          },
          "metadata": {},
          "execution_count": 5
        }
      ]
    },
    {
      "cell_type": "code",
      "metadata": {
        "colab": {
          "base_uri": "https://localhost:8080/"
        },
        "id": "J4UFRx1wNffK",
        "outputId": "afbcf7ba-33fa-4d07-8481-d4fa90606682"
      },
      "source": [
        "restaurant_df.info()"
      ],
      "execution_count": 6,
      "outputs": [
        {
          "output_type": "stream",
          "name": "stdout",
          "text": [
            "<class 'pandas.core.frame.DataFrame'>\n",
            "RangeIndex: 1000 entries, 0 to 999\n",
            "Data columns (total 2 columns):\n",
            " #   Column  Non-Null Count  Dtype \n",
            "---  ------  --------------  ----- \n",
            " 0   Review  1000 non-null   object\n",
            " 1   Liked   1000 non-null   int64 \n",
            "dtypes: int64(1), object(1)\n",
            "memory usage: 15.8+ KB\n"
          ]
        }
      ]
    },
    {
      "cell_type": "code",
      "metadata": {
        "colab": {
          "base_uri": "https://localhost:8080/"
        },
        "id": "9ZnQ8PBnNjqS",
        "outputId": "c0eeffba-31eb-4a4d-c03a-c7e1b6b2c029"
      },
      "source": [
        "restaurant_df.shape"
      ],
      "execution_count": 7,
      "outputs": [
        {
          "output_type": "execute_result",
          "data": {
            "text/plain": [
              "(1000, 2)"
            ]
          },
          "metadata": {},
          "execution_count": 7
        }
      ]
    },
    {
      "cell_type": "markdown",
      "metadata": {
        "id": "9pN6ZeHwNnoL"
      },
      "source": [
        "## Data Manipulation --->"
      ]
    },
    {
      "cell_type": "markdown",
      "metadata": {
        "id": "c-7oglkAOL2Y"
      },
      "source": [
        "### Normalizing ->"
      ]
    },
    {
      "cell_type": "code",
      "metadata": {
        "id": "kvrse8BwNrEe"
      },
      "source": [
        "restaurant_df['Review'] = restaurant_df['Review'].str.lower()"
      ],
      "execution_count": 8,
      "outputs": []
    },
    {
      "cell_type": "code",
      "metadata": {
        "colab": {
          "base_uri": "https://localhost:8080/"
        },
        "id": "lOpbcEMJN4mZ",
        "outputId": "cc5d09c2-a1d5-4c31-aa14-d9b608b885e8"
      },
      "source": [
        "restaurant_df.head"
      ],
      "execution_count": 9,
      "outputs": [
        {
          "output_type": "execute_result",
          "data": {
            "text/plain": [
              "<bound method NDFrame.head of                                                 Review  Liked\n",
              "0                             wow... loved this place.      1\n",
              "1                                   crust is not good.      0\n",
              "2            not tasty and the texture was just nasty.      0\n",
              "3    stopped by during the late may bank holiday of...      1\n",
              "4    the selection on the menu was great and so wer...      1\n",
              "..                                                 ...    ...\n",
              "995  i think food should have flavor and texture an...      0\n",
              "996                           appetite instantly gone.      0\n",
              "997  overall i was not impressed and would not go b...      0\n",
              "998  the whole experience was underwhelming, and i ...      0\n",
              "999  then, as if i hadn't wasted enough of my life ...      0\n",
              "\n",
              "[1000 rows x 2 columns]>"
            ]
          },
          "metadata": {},
          "execution_count": 9
        }
      ]
    },
    {
      "cell_type": "markdown",
      "metadata": {
        "id": "yxjw8adIOSFq"
      },
      "source": [
        "### Clean the Punctuations -->"
      ]
    },
    {
      "cell_type": "code",
      "metadata": {
        "id": "OUKH6IHUOcFp"
      },
      "source": [
        "restaurant_df['Review'] = restaurant_df['Review'].str.replace('[^\\w\\s]', '')"
      ],
      "execution_count": 10,
      "outputs": []
    },
    {
      "cell_type": "code",
      "metadata": {
        "id": "3_wce7XLOtP_"
      },
      "source": [
        "restaurant_df['Review'] = restaurant_df['Review'].str.replace('\\d', '')"
      ],
      "execution_count": 11,
      "outputs": []
    },
    {
      "cell_type": "markdown",
      "metadata": {
        "id": "qBK-FyXZO6I6"
      },
      "source": [
        "### Stopwords --->"
      ]
    },
    {
      "cell_type": "markdown",
      "metadata": {
        "id": "O5OnXwoPP5ar"
      },
      "source": [
        "We've to get rid of commonly used words"
      ]
    },
    {
      "cell_type": "code",
      "metadata": {
        "id": "jb-DimI1PITq"
      },
      "source": [
        "stop_words = stopwords.words('english')\n",
        "restaurant_df['Review'] = restaurant_df['Review'].apply(lambda x:\" \".join(x for x in str(x).split() if x not in stop_words))"
      ],
      "execution_count": 12,
      "outputs": []
    },
    {
      "cell_type": "markdown",
      "metadata": {
        "id": "ieEhUN7lQFCK"
      },
      "source": [
        "### Rarewords --->"
      ]
    },
    {
      "cell_type": "code",
      "metadata": {
        "id": "luGBB06DQIXc"
      },
      "source": [
        "dropping = pd.Series(' '.join(restaurant_df['Review']).split()).value_counts()[-250:]\n",
        "restaurant_df['Review'] = restaurant_df['Review'].apply(lambda x: \" \".join(x for x in x.split() if x not in dropping))"
      ],
      "execution_count": 13,
      "outputs": []
    },
    {
      "cell_type": "markdown",
      "metadata": {
        "id": "hDmjjonvSWax"
      },
      "source": [
        "### Tokenization --->"
      ]
    },
    {
      "cell_type": "markdown",
      "metadata": {
        "id": "pG40WgvsTQe9"
      },
      "source": [
        "Seperating sentences of sentence's parts"
      ]
    },
    {
      "cell_type": "code",
      "metadata": {
        "colab": {
          "base_uri": "https://localhost:8080/"
        },
        "id": "6Rn7o8LTSp5J",
        "outputId": "dc871672-de12-4899-c726-62a18629a62d"
      },
      "source": [
        "restaurant_df[\"Review\"].apply(lambda x: TextBlob(x).words).head()"
      ],
      "execution_count": 14,
      "outputs": [
        {
          "output_type": "execute_result",
          "data": {
            "text/plain": [
              "0                                  [wow, loved, place]\n",
              "1                                        [crust, good]\n",
              "2                              [tasty, texture, nasty]\n",
              "3    [stopped, late, may, bank, holiday, recommenda...\n",
              "4                     [selection, menu, great, prices]\n",
              "Name: Review, dtype: object"
            ]
          },
          "metadata": {},
          "execution_count": 14
        }
      ]
    },
    {
      "cell_type": "markdown",
      "metadata": {
        "id": "jUT8D3OHaiaI"
      },
      "source": [
        "### Stemming --->\n"
      ]
    },
    {
      "cell_type": "markdown",
      "metadata": {
        "id": "Z4yGJenlamvt"
      },
      "source": [
        "And the now, we seperate the words by root"
      ]
    },
    {
      "cell_type": "code",
      "metadata": {
        "id": "kINMWOIqalYi"
      },
      "source": [
        "restaurant_df['Review'] = restaurant_df['Review'].apply(lambda x: \" \".join([Word(word).lemmatize() for word in x.split()]))"
      ],
      "execution_count": 15,
      "outputs": []
    },
    {
      "cell_type": "code",
      "metadata": {
        "colab": {
          "base_uri": "https://localhost:8080/"
        },
        "id": "hNhUTrvsbblv",
        "outputId": "48d758b8-db51-472f-9692-97dfa234ba62"
      },
      "source": [
        "restaurant_df['Review'].head()"
      ],
      "execution_count": 16,
      "outputs": [
        {
          "output_type": "execute_result",
          "data": {
            "text/plain": [
              "0                                      wow loved place\n",
              "1                                           crust good\n",
              "2                                  tasty texture nasty\n",
              "3    stopped late may bank holiday recommendation l...\n",
              "4                           selection menu great price\n",
              "Name: Review, dtype: object"
            ]
          },
          "metadata": {},
          "execution_count": 16
        }
      ]
    },
    {
      "cell_type": "markdown",
      "metadata": {
        "id": "TBbGdPJrylwP"
      },
      "source": [
        "### Visualization --->"
      ]
    },
    {
      "cell_type": "code",
      "metadata": {
        "id": "pPcEBZSFyozP"
      },
      "source": [
        "rest_tf = restaurant_df[\"Review\"].apply(lambda x: pd.value_counts(x.split(\" \"))).sum(axis=0).reset_index()"
      ],
      "execution_count": 17,
      "outputs": []
    },
    {
      "cell_type": "code",
      "metadata": {
        "colab": {
          "base_uri": "https://localhost:8080/",
          "height": 158
        },
        "id": "RzYdfso-y0Qz",
        "outputId": "d3062240-e217-4bc0-ff21-d9fc19fe32f7"
      },
      "source": [
        "rest_tf.columns = [\"words\", \"tf\"]\n",
        "rest_tf.head()"
      ],
      "execution_count": 18,
      "outputs": [
        {
          "output_type": "execute_result",
          "data": {
            "text/html": [
              "<div>\n",
              "<style scoped>\n",
              "    .dataframe tbody tr th:only-of-type {\n",
              "        vertical-align: middle;\n",
              "    }\n",
              "\n",
              "    .dataframe tbody tr th {\n",
              "        vertical-align: top;\n",
              "    }\n",
              "\n",
              "    .dataframe thead th {\n",
              "        text-align: right;\n",
              "    }\n",
              "</style>\n",
              "<table border=\"1\" class=\"dataframe\">\n",
              "  <thead>\n",
              "    <tr style=\"text-align: right;\">\n",
              "      <th></th>\n",
              "      <th>words</th>\n",
              "      <th>tf</th>\n",
              "    </tr>\n",
              "  </thead>\n",
              "  <tbody>\n",
              "    <tr>\n",
              "      <th>0</th>\n",
              "      <td>place</td>\n",
              "      <td>111.00</td>\n",
              "    </tr>\n",
              "    <tr>\n",
              "      <th>1</th>\n",
              "      <td>wow</td>\n",
              "      <td>3.00</td>\n",
              "    </tr>\n",
              "    <tr>\n",
              "      <th>2</th>\n",
              "      <td>loved</td>\n",
              "      <td>10.00</td>\n",
              "    </tr>\n",
              "    <tr>\n",
              "      <th>3</th>\n",
              "      <td>good</td>\n",
              "      <td>95.00</td>\n",
              "    </tr>\n",
              "    <tr>\n",
              "      <th>4</th>\n",
              "      <td>crust</td>\n",
              "      <td>2.00</td>\n",
              "    </tr>\n",
              "  </tbody>\n",
              "</table>\n",
              "</div>"
            ],
            "text/plain": [
              "   words     tf\n",
              "0  place 111.00\n",
              "1    wow   3.00\n",
              "2  loved  10.00\n",
              "3   good  95.00\n",
              "4  crust   2.00"
            ]
          },
          "metadata": {},
          "execution_count": 18
        }
      ]
    },
    {
      "cell_type": "code",
      "metadata": {
        "colab": {
          "base_uri": "https://localhost:8080/"
        },
        "id": "CDN8nsBWzEu_",
        "outputId": "43012123-9af6-4b45-db3f-38dfa889add1"
      },
      "source": [
        "rest_tf.shape"
      ],
      "execution_count": 19,
      "outputs": [
        {
          "output_type": "execute_result",
          "data": {
            "text/plain": [
              "(1588, 2)"
            ]
          },
          "metadata": {},
          "execution_count": 19
        }
      ]
    },
    {
      "cell_type": "code",
      "metadata": {
        "colab": {
          "base_uri": "https://localhost:8080/"
        },
        "id": "9K-o-DvQzIqg",
        "outputId": "5997f7dd-1a29-4d90-e4ac-7656034ca2b9"
      },
      "source": [
        "rest_tf[\"words\"].nunique()"
      ],
      "execution_count": 20,
      "outputs": [
        {
          "output_type": "execute_result",
          "data": {
            "text/plain": [
              "1588"
            ]
          },
          "metadata": {},
          "execution_count": 20
        }
      ]
    },
    {
      "cell_type": "code",
      "metadata": {
        "colab": {
          "base_uri": "https://localhost:8080/"
        },
        "id": "fOwd56uUzRPy",
        "outputId": "e47329a3-0ae2-4ab6-8101-2ca4b27524e8"
      },
      "source": [
        "rest_tf[\"tf\"].describe([0.05, 0.10, 0.25, 0.50, 0.75, 0.80, 0.90, 0.95, 0.99]).T"
      ],
      "execution_count": 21,
      "outputs": [
        {
          "output_type": "execute_result",
          "data": {
            "text/plain": [
              "count   1588.00\n",
              "mean       3.38\n",
              "std        7.18\n",
              "min        1.00\n",
              "5%         1.00\n",
              "10%        1.00\n",
              "25%        1.00\n",
              "50%        1.00\n",
              "75%        3.00\n",
              "80%        4.00\n",
              "90%        7.00\n",
              "95%       12.00\n",
              "99%       26.13\n",
              "max      125.00\n",
              "Name: tf, dtype: float64"
            ]
          },
          "metadata": {},
          "execution_count": 21
        }
      ]
    },
    {
      "cell_type": "code",
      "metadata": {
        "colab": {
          "base_uri": "https://localhost:8080/",
          "height": 345
        },
        "id": "eFM6G1dIzV-k",
        "outputId": "e9646243-0dad-4d3a-8627-62fb265705df"
      },
      "source": [
        "rest_tf.sort_values(\"tf\", ascending = False)"
      ],
      "execution_count": 22,
      "outputs": [
        {
          "output_type": "execute_result",
          "data": {
            "text/html": [
              "<div>\n",
              "<style scoped>\n",
              "    .dataframe tbody tr th:only-of-type {\n",
              "        vertical-align: middle;\n",
              "    }\n",
              "\n",
              "    .dataframe tbody tr th {\n",
              "        vertical-align: top;\n",
              "    }\n",
              "\n",
              "    .dataframe thead th {\n",
              "        text-align: right;\n",
              "    }\n",
              "</style>\n",
              "<table border=\"1\" class=\"dataframe\">\n",
              "  <thead>\n",
              "    <tr style=\"text-align: right;\">\n",
              "      <th></th>\n",
              "      <th>words</th>\n",
              "      <th>tf</th>\n",
              "    </tr>\n",
              "  </thead>\n",
              "  <tbody>\n",
              "    <tr>\n",
              "      <th>71</th>\n",
              "      <td>food</td>\n",
              "      <td>125.00</td>\n",
              "    </tr>\n",
              "    <tr>\n",
              "      <th>0</th>\n",
              "      <td>place</td>\n",
              "      <td>111.00</td>\n",
              "    </tr>\n",
              "    <tr>\n",
              "      <th>3</th>\n",
              "      <td>good</td>\n",
              "      <td>95.00</td>\n",
              "    </tr>\n",
              "    <tr>\n",
              "      <th>37</th>\n",
              "      <td>service</td>\n",
              "      <td>84.00</td>\n",
              "    </tr>\n",
              "    <tr>\n",
              "      <th>17</th>\n",
              "      <td>great</td>\n",
              "      <td>70.00</td>\n",
              "    </tr>\n",
              "    <tr>\n",
              "      <th>...</th>\n",
              "      <td>...</td>\n",
              "      <td>...</td>\n",
              "    </tr>\n",
              "    <tr>\n",
              "      <th>288</th>\n",
              "      <td>appalling</td>\n",
              "      <td>1.00</td>\n",
              "    </tr>\n",
              "    <tr>\n",
              "      <th>987</th>\n",
              "      <td>companion</td>\n",
              "      <td>1.00</td>\n",
              "    </tr>\n",
              "    <tr>\n",
              "      <th>988</th>\n",
              "      <td>poop</td>\n",
              "      <td>1.00</td>\n",
              "    </tr>\n",
              "    <tr>\n",
              "      <th>989</th>\n",
              "      <td>ground</td>\n",
              "      <td>1.00</td>\n",
              "    </tr>\n",
              "    <tr>\n",
              "      <th>1587</th>\n",
              "      <td>poured</td>\n",
              "      <td>1.00</td>\n",
              "    </tr>\n",
              "  </tbody>\n",
              "</table>\n",
              "<p>1588 rows × 2 columns</p>\n",
              "</div>"
            ],
            "text/plain": [
              "          words     tf\n",
              "71         food 125.00\n",
              "0         place 111.00\n",
              "3          good  95.00\n",
              "37      service  84.00\n",
              "17        great  70.00\n",
              "...         ...    ...\n",
              "288   appalling   1.00\n",
              "987   companion   1.00\n",
              "988        poop   1.00\n",
              "989      ground   1.00\n",
              "1587     poured   1.00\n",
              "\n",
              "[1588 rows x 2 columns]"
            ]
          },
          "metadata": {},
          "execution_count": 22
        }
      ]
    },
    {
      "cell_type": "markdown",
      "metadata": {
        "id": "DYqk2IImzjXs"
      },
      "source": [
        "### Chart Visualization --->"
      ]
    },
    {
      "cell_type": "code",
      "metadata": {
        "colab": {
          "base_uri": "https://localhost:8080/",
          "height": 48
        },
        "id": "zpWstJtYzcja",
        "outputId": "fe0a5e66-aa36-445a-8bb7-4960126d398b"
      },
      "source": [
        "rest_tf[rest_tf[\"tf\"] > 25].plot.bar(x=\"words\", y=\"tf\")\n",
        "plt.show()"
      ],
      "execution_count": 23,
      "outputs": [
        {
          "output_type": "display_data",
          "data": {
            "image/png": "[encoded data removed]",
            "text/plain": [
              "<Figure size 432x288 with 1 Axes>"
            ]
          },
          "metadata": {
            "needs_background": "light"
          }
        }
      ]
    },
    {
      "cell_type": "markdown",
      "metadata": {
        "id": "_xCHUajdzm6f"
      },
      "source": [
        "### WordCloud --->"
      ]
    },
    {
      "cell_type": "code",
      "metadata": {
        "colab": {
          "base_uri": "https://localhost:8080/",
          "height": 70
        },
        "id": "HcRM3a-AzqZX",
        "outputId": "ab95b295-d817-4034-e109-f8140262d861"
      },
      "source": [
        "text = \" \".join(i for i in restaurant_df.Review)\n",
        "wordcloud = WordCloud().generate(text)\n",
        "plt.imshow(wordcloud, interpolation=\"bilinear\")\n",
        "plt.axis(\"off\")\n",
        "plt.show()\n",
        "wordcloud = WordCloud(max_font_size=50,\n",
        "                      max_words=100,\n",
        "                      background_color=\"white\").generate(text)\n",
        "plt.figure()\n",
        "plt.imshow(wordcloud, interpolation=\"bilinear\")\n",
        "plt.axis(\"off\")\n",
        "plt.show()\n",
        "wordcloud.to_file(\"wordcloud.png\")"
      ],
      "execution_count": 24,
      "outputs": [
        {
          "output_type": "display_data",
          "data": {
            "image/png": "[encoded data removed]",
            "text/plain": [
              "<Figure size 432x288 with 1 Axes>"
            ]
          },
          "metadata": {
            "needs_background": "light"
          }
        },
        {
          "output_type": "display_data",
          "data": {
            "image/png": "[encoded data removed]",
            "text/plain": [
              "<Figure size 432x288 with 1 Axes>"
            ]
          },
          "metadata": {
            "needs_background": "light"
          }
        },
        {
          "output_type": "execute_result",
          "data": {
            "text/plain": [
              "<wordcloud.wordcloud.WordCloud at 0x7f72305bdc90>"
            ]
          },
          "metadata": {},
          "execution_count": 24
        }
      ]
    },
    {
      "cell_type": "markdown",
      "metadata": {
        "id": "6ORE5g3Qz3uv"
      },
      "source": [
        "## Sentiment Analysis --->"
      ]
    },
    {
      "cell_type": "code",
      "metadata": {
        "colab": {
          "base_uri": "https://localhost:8080/"
        },
        "id": "7fjbINVMz7Nj",
        "outputId": "a78a555b-d263-47d3-a479-0065e77aceb0"
      },
      "source": [
        "sia = SentimentIntensityAnalyzer()\n",
        "sia.polarity_scores(\"The food was awesome\")"
      ],
      "execution_count": 25,
      "outputs": [
        {
          "output_type": "execute_result",
          "data": {
            "text/plain": [
              "{'compound': 0.6249, 'neg': 0.0, 'neu': 0.423, 'pos': 0.577}"
            ]
          },
          "metadata": {},
          "execution_count": 25
        }
      ]
    },
    {
      "cell_type": "code",
      "metadata": {
        "colab": {
          "base_uri": "https://localhost:8080/"
        },
        "id": "ntsNGDjD0HQX",
        "outputId": "0c0859cb-9330-4f3d-a3bd-610a3015bfe9"
      },
      "source": [
        "restaurant_df[\"Review\"].apply(lambda x: x.upper())"
      ],
      "execution_count": 26,
      "outputs": [
        {
          "output_type": "execute_result",
          "data": {
            "text/plain": [
              "0                                        WOW LOVED PLACE\n",
              "1                                             CRUST GOOD\n",
              "2                                    TASTY TEXTURE NASTY\n",
              "3      STOPPED LATE MAY BANK HOLIDAY RECOMMENDATION L...\n",
              "4                             SELECTION MENU GREAT PRICE\n",
              "                             ...                        \n",
              "995                    THINK FOOD FLAVOR TEXTURE LACKING\n",
              "996                                       INSTANTLY GONE\n",
              "997                      OVERALL IMPRESSED WOULD GO BACK\n",
              "998    WHOLE EXPERIENCE UNDERWHELMING THINK WELL GO N...\n",
              "999    HADNT WASTED ENOUGH LIFE POURED SALT WOUND DRA...\n",
              "Name: Review, Length: 1000, dtype: object"
            ]
          },
          "metadata": {},
          "execution_count": 26
        }
      ]
    },
    {
      "cell_type": "code",
      "metadata": {
        "colab": {
          "base_uri": "https://localhost:8080/"
        },
        "id": "DGre5p-W0LM8",
        "outputId": "144f52f3-01e5-42c3-a41f-bd6d00de4e9e"
      },
      "source": [
        "restaurant_df[\"Review\"][0:10].apply(lambda x: sia.polarity_scores(x))"
      ],
      "execution_count": 27,
      "outputs": [
        {
          "output_type": "execute_result",
          "data": {
            "text/plain": [
              "0    {'neg': 0.0, 'neu': 0.115, 'pos': 0.885, 'comp...\n",
              "1    {'neg': 0.0, 'neu': 0.256, 'pos': 0.744, 'comp...\n",
              "2    {'neg': 0.643, 'neu': 0.357, 'pos': 0.0, 'comp...\n",
              "3    {'neg': 0.152, 'neu': 0.32, 'pos': 0.528, 'com...\n",
              "4    {'neg': 0.0, 'neu': 0.423, 'pos': 0.577, 'comp...\n",
              "5    {'neg': 0.45, 'neu': 0.333, 'pos': 0.217, 'com...\n",
              "6    {'neg': 0.395, 'neu': 0.605, 'pos': 0.0, 'comp...\n",
              "7    {'neg': 0.0, 'neu': 0.598, 'pos': 0.402, 'comp...\n",
              "8    {'neg': 0.0, 'neu': 0.196, 'pos': 0.804, 'comp...\n",
              "9    {'neg': 0.0, 'neu': 0.196, 'pos': 0.804, 'comp...\n",
              "Name: Review, dtype: object"
            ]
          },
          "metadata": {},
          "execution_count": 27
        }
      ]
    },
    {
      "cell_type": "code",
      "metadata": {
        "id": "n3MYPx0x0QnF"
      },
      "source": [
        "restaurant_df[\"polarity_score\"] = restaurant_df[\"Review\"].apply(lambda x: sia.polarity_scores(x)[\"compound\"])"
      ],
      "execution_count": 28,
      "outputs": []
    },
    {
      "cell_type": "code",
      "metadata": {
        "colab": {
          "base_uri": "https://localhost:8080/",
          "height": 224
        },
        "id": "Kr5QVdeZ0WwO",
        "outputId": "cfe3367d-6e63-430c-83f9-f3e3fc975daf"
      },
      "source": [
        "restaurant_df.head()"
      ],
      "execution_count": 29,
      "outputs": [
        {
          "output_type": "execute_result",
          "data": {
            "text/html": [
              "<div>\n",
              "<style scoped>\n",
              "    .dataframe tbody tr th:only-of-type {\n",
              "        vertical-align: middle;\n",
              "    }\n",
              "\n",
              "    .dataframe tbody tr th {\n",
              "        vertical-align: top;\n",
              "    }\n",
              "\n",
              "    .dataframe thead th {\n",
              "        text-align: right;\n",
              "    }\n",
              "</style>\n",
              "<table border=\"1\" class=\"dataframe\">\n",
              "  <thead>\n",
              "    <tr style=\"text-align: right;\">\n",
              "      <th></th>\n",
              "      <th>Review</th>\n",
              "      <th>Liked</th>\n",
              "      <th>polarity_score</th>\n",
              "    </tr>\n",
              "  </thead>\n",
              "  <tbody>\n",
              "    <tr>\n",
              "      <th>0</th>\n",
              "      <td>wow loved place</td>\n",
              "      <td>1</td>\n",
              "      <td>0.83</td>\n",
              "    </tr>\n",
              "    <tr>\n",
              "      <th>1</th>\n",
              "      <td>crust good</td>\n",
              "      <td>0</td>\n",
              "      <td>0.44</td>\n",
              "    </tr>\n",
              "    <tr>\n",
              "      <th>2</th>\n",
              "      <td>tasty texture nasty</td>\n",
              "      <td>0</td>\n",
              "      <td>-0.56</td>\n",
              "    </tr>\n",
              "    <tr>\n",
              "      <th>3</th>\n",
              "      <td>stopped late may bank holiday recommendation l...</td>\n",
              "      <td>1</td>\n",
              "      <td>0.69</td>\n",
              "    </tr>\n",
              "    <tr>\n",
              "      <th>4</th>\n",
              "      <td>selection menu great price</td>\n",
              "      <td>1</td>\n",
              "      <td>0.62</td>\n",
              "    </tr>\n",
              "  </tbody>\n",
              "</table>\n",
              "</div>"
            ],
            "text/plain": [
              "                                              Review  Liked  polarity_score\n",
              "0                                    wow loved place      1            0.83\n",
              "1                                         crust good      0            0.44\n",
              "2                                tasty texture nasty      0           -0.56\n",
              "3  stopped late may bank holiday recommendation l...      1            0.69\n",
              "4                         selection menu great price      1            0.62"
            ]
          },
          "metadata": {},
          "execution_count": 29
        }
      ]
    },
    {
      "cell_type": "markdown",
      "metadata": {
        "id": "y_W6JioB0bYo"
      },
      "source": [
        "## Sentiment Modeling --->"
      ]
    },
    {
      "cell_type": "code",
      "metadata": {
        "colab": {
          "base_uri": "https://localhost:8080/"
        },
        "id": "_Op2vEcb0f7v",
        "outputId": "70d1b8c0-7d53-451d-e05a-7c3d060609a1"
      },
      "source": [
        "restaurant_df[\"Review\"][0:10].apply(lambda x: \"positive\" if sia.polarity_scores(x)[\"compound\"] > 0 else \"negative\")"
      ],
      "execution_count": 30,
      "outputs": [
        {
          "output_type": "execute_result",
          "data": {
            "text/plain": [
              "0    positive\n",
              "1    positive\n",
              "2    negative\n",
              "3    positive\n",
              "4    positive\n",
              "5    negative\n",
              "6    negative\n",
              "7    positive\n",
              "8    positive\n",
              "9    positive\n",
              "Name: Review, dtype: object"
            ]
          },
          "metadata": {},
          "execution_count": 30
        }
      ]
    },
    {
      "cell_type": "markdown",
      "metadata": {
        "id": "pvmxoEFI04qO"
      },
      "source": [
        "Apply for all data values"
      ]
    },
    {
      "cell_type": "code",
      "metadata": {
        "colab": {
          "base_uri": "https://localhost:8080/",
          "height": 438
        },
        "id": "QfDbKr7p0-m_",
        "outputId": "4752a20a-3d84-435b-bc3d-d5d141f0398f"
      },
      "source": [
        "restaurant_df[\"sentiment_label\"] = restaurant_df[\"Review\"].apply(lambda x: \"pos\" if sia.polarity_scores(x)[\"compound\"] > 0 else \"neg\")\n",
        "restaurant_df.head(20)"
      ],
      "execution_count": 31,
      "outputs": [
        {
          "output_type": "execute_result",
          "data": {
            "text/html": [
              "<div>\n",
              "<style scoped>\n",
              "    .dataframe tbody tr th:only-of-type {\n",
              "        vertical-align: middle;\n",
              "    }\n",
              "\n",
              "    .dataframe tbody tr th {\n",
              "        vertical-align: top;\n",
              "    }\n",
              "\n",
              "    .dataframe thead th {\n",
              "        text-align: right;\n",
              "    }\n",
              "</style>\n",
              "<table border=\"1\" class=\"dataframe\">\n",
              "  <thead>\n",
              "    <tr style=\"text-align: right;\">\n",
              "      <th></th>\n",
              "      <th>Review</th>\n",
              "      <th>Liked</th>\n",
              "      <th>polarity_score</th>\n",
              "      <th>sentiment_label</th>\n",
              "    </tr>\n",
              "  </thead>\n",
              "  <tbody>\n",
              "    <tr>\n",
              "      <th>0</th>\n",
              "      <td>wow loved place</td>\n",
              "      <td>1</td>\n",
              "      <td>0.83</td>\n",
              "      <td>pos</td>\n",
              "    </tr>\n",
              "    <tr>\n",
              "      <th>1</th>\n",
              "      <td>crust good</td>\n",
              "      <td>0</td>\n",
              "      <td>0.44</td>\n",
              "      <td>pos</td>\n",
              "    </tr>\n",
              "    <tr>\n",
              "      <th>2</th>\n",
              "      <td>tasty texture nasty</td>\n",
              "      <td>0</td>\n",
              "      <td>-0.56</td>\n",
              "      <td>neg</td>\n",
              "    </tr>\n",
              "    <tr>\n",
              "      <th>3</th>\n",
              "      <td>stopped late may bank holiday recommendation l...</td>\n",
              "      <td>1</td>\n",
              "      <td>0.69</td>\n",
              "      <td>pos</td>\n",
              "    </tr>\n",
              "    <tr>\n",
              "      <th>4</th>\n",
              "      <td>selection menu great price</td>\n",
              "      <td>1</td>\n",
              "      <td>0.62</td>\n",
              "      <td>pos</td>\n",
              "    </tr>\n",
              "    <tr>\n",
              "      <th>5</th>\n",
              "      <td>getting want damn pho</td>\n",
              "      <td>0</td>\n",
              "      <td>-0.34</td>\n",
              "      <td>neg</td>\n",
              "    </tr>\n",
              "    <tr>\n",
              "      <th>6</th>\n",
              "      <td>honeslty didnt taste fresh</td>\n",
              "      <td>0</td>\n",
              "      <td>-0.24</td>\n",
              "      <td>neg</td>\n",
              "    </tr>\n",
              "    <tr>\n",
              "      <th>7</th>\n",
              "      <td>potato like could tell made ahead time kept wa...</td>\n",
              "      <td>0</td>\n",
              "      <td>0.57</td>\n",
              "      <td>pos</td>\n",
              "    </tr>\n",
              "    <tr>\n",
              "      <th>8</th>\n",
              "      <td>fry great</td>\n",
              "      <td>1</td>\n",
              "      <td>0.62</td>\n",
              "      <td>pos</td>\n",
              "    </tr>\n",
              "    <tr>\n",
              "      <th>9</th>\n",
              "      <td>great touch</td>\n",
              "      <td>1</td>\n",
              "      <td>0.62</td>\n",
              "      <td>pos</td>\n",
              "    </tr>\n",
              "    <tr>\n",
              "      <th>10</th>\n",
              "      <td>service</td>\n",
              "      <td>1</td>\n",
              "      <td>0.00</td>\n",
              "      <td>neg</td>\n",
              "    </tr>\n",
              "    <tr>\n",
              "      <th>11</th>\n",
              "      <td>would go back</td>\n",
              "      <td>0</td>\n",
              "      <td>0.00</td>\n",
              "      <td>neg</td>\n",
              "    </tr>\n",
              "    <tr>\n",
              "      <th>12</th>\n",
              "      <td>cashier care ever say still ended wayyy overpr...</td>\n",
              "      <td>0</td>\n",
              "      <td>0.49</td>\n",
              "      <td>pos</td>\n",
              "    </tr>\n",
              "    <tr>\n",
              "      <th>13</th>\n",
              "      <td>tried cod ravoli chicken cranberrymmmm</td>\n",
              "      <td>1</td>\n",
              "      <td>0.00</td>\n",
              "      <td>neg</td>\n",
              "    </tr>\n",
              "    <tr>\n",
              "      <th>14</th>\n",
              "      <td>disgusted pretty sure human hair</td>\n",
              "      <td>0</td>\n",
              "      <td>0.27</td>\n",
              "      <td>pos</td>\n",
              "    </tr>\n",
              "    <tr>\n",
              "      <th>15</th>\n",
              "      <td>shocked sign indicate</td>\n",
              "      <td>0</td>\n",
              "      <td>-0.32</td>\n",
              "      <td>neg</td>\n",
              "    </tr>\n",
              "    <tr>\n",
              "      <th>16</th>\n",
              "      <td>highly recommended</td>\n",
              "      <td>1</td>\n",
              "      <td>0.27</td>\n",
              "      <td>pos</td>\n",
              "    </tr>\n",
              "    <tr>\n",
              "      <th>17</th>\n",
              "      <td>waitress little slow service</td>\n",
              "      <td>0</td>\n",
              "      <td>0.00</td>\n",
              "      <td>neg</td>\n",
              "    </tr>\n",
              "    <tr>\n",
              "      <th>18</th>\n",
              "      <td>place worth time let vega</td>\n",
              "      <td>0</td>\n",
              "      <td>0.23</td>\n",
              "      <td>pos</td>\n",
              "    </tr>\n",
              "    <tr>\n",
              "      <th>19</th>\n",
              "      <td>like</td>\n",
              "      <td>0</td>\n",
              "      <td>0.36</td>\n",
              "      <td>pos</td>\n",
              "    </tr>\n",
              "  </tbody>\n",
              "</table>\n",
              "</div>"
            ],
            "text/plain": [
              "                                               Review  Liked  polarity_score sentiment_label\n",
              "0                                     wow loved place      1            0.83             pos\n",
              "1                                          crust good      0            0.44             pos\n",
              "2                                 tasty texture nasty      0           -0.56             neg\n",
              "3   stopped late may bank holiday recommendation l...      1            0.69             pos\n",
              "4                          selection menu great price      1            0.62             pos\n",
              "5                               getting want damn pho      0           -0.34             neg\n",
              "6                          honeslty didnt taste fresh      0           -0.24             neg\n",
              "7   potato like could tell made ahead time kept wa...      0            0.57             pos\n",
              "8                                           fry great      1            0.62             pos\n",
              "9                                         great touch      1            0.62             pos\n",
              "10                                            service      1            0.00             neg\n",
              "11                                      would go back      0            0.00             neg\n",
              "12  cashier care ever say still ended wayyy overpr...      0            0.49             pos\n",
              "13             tried cod ravoli chicken cranberrymmmm      1            0.00             neg\n",
              "14                   disgusted pretty sure human hair      0            0.27             pos\n",
              "15                              shocked sign indicate      0           -0.32             neg\n",
              "16                                 highly recommended      1            0.27             pos\n",
              "17                       waitress little slow service      0            0.00             neg\n",
              "18                          place worth time let vega      0            0.23             pos\n",
              "19                                               like      0            0.36             pos"
            ]
          },
          "metadata": {},
          "execution_count": 31
        }
      ]
    },
    {
      "cell_type": "code",
      "metadata": {
        "colab": {
          "base_uri": "https://localhost:8080/"
        },
        "id": "4YSpCGaV1IT4",
        "outputId": "03c4bf32-5050-4d3c-9df3-7fdd2888ef99"
      },
      "source": [
        "restaurant_df.groupby(\"sentiment_label\")[\"Liked\"].mean()"
      ],
      "execution_count": 32,
      "outputs": [
        {
          "output_type": "execute_result",
          "data": {
            "text/plain": [
              "sentiment_label\n",
              "neg   0.21\n",
              "pos   0.75\n",
              "Name: Liked, dtype: float64"
            ]
          },
          "metadata": {},
          "execution_count": 32
        }
      ]
    },
    {
      "cell_type": "code",
      "metadata": {
        "id": "u8Jw2kkA1VQ6"
      },
      "source": [
        "restaurant_df[\"sentiment_label\"] = LabelEncoder().fit_transform(restaurant_df[\"sentiment_label\"])"
      ],
      "execution_count": 33,
      "outputs": []
    },
    {
      "cell_type": "code",
      "metadata": {
        "id": "Pc4lC-Kw1dC-"
      },
      "source": [
        "X = restaurant_df[\"Review\"]\n",
        "y = restaurant_df[\"sentiment_label\"]"
      ],
      "execution_count": 34,
      "outputs": []
    },
    {
      "cell_type": "markdown",
      "metadata": {
        "id": "gWj61K0P2bCl"
      },
      "source": [
        "### Count Vector --->"
      ]
    },
    {
      "cell_type": "markdown",
      "metadata": {
        "id": "KZitMQKS2eup"
      },
      "source": [
        "Now, we converts text to a term count vector\n",
        " "
      ]
    },
    {
      "cell_type": "code",
      "metadata": {
        "colab": {
          "base_uri": "https://localhost:8080/"
        },
        "id": "BD54em8K2m1c",
        "outputId": "dc2ad29a-600e-4eed-a95e-18d8cad7aba1"
      },
      "source": [
        "from sklearn.feature_extraction.text import CountVectorizer\n",
        "vectorizer = CountVectorizer(max_features= 1000)\n",
        "x_count = vectorizer.fit_transform(X)\n",
        "\n",
        "vectorizer.get_feature_names()[10:15]\n",
        "x_count.toarray()[10:15]"
      ],
      "execution_count": 35,
      "outputs": [
        {
          "output_type": "execute_result",
          "data": {
            "text/plain": [
              "array([[0, 0, 0, ..., 0, 0, 0],\n",
              "       [0, 0, 0, ..., 0, 0, 0],\n",
              "       [0, 0, 0, ..., 0, 0, 0],\n",
              "       [0, 0, 0, ..., 0, 0, 0],\n",
              "       [0, 0, 0, ..., 0, 0, 0]])"
            ]
          },
          "metadata": {},
          "execution_count": 35
        }
      ]
    },
    {
      "cell_type": "markdown",
      "metadata": {
        "id": "fXsGqgZ947th"
      },
      "source": [
        "### TF-IDF --->"
      ]
    },
    {
      "cell_type": "markdown",
      "metadata": {
        "id": "t-buYTaO5ILR"
      },
      "source": [
        "After from the Count Vector at now, we calculated TF-IDF . It's the weight factor calculated with the statistical method that shows the importance of a term in the document"
      ]
    },
    {
      "cell_type": "code",
      "metadata": {
        "id": "fk6aZB0r5oAh"
      },
      "source": [
        "from sklearn.feature_extraction.text import TfidfVectorizer\n",
        "tf_idf_word_vectorizer = TfidfVectorizer()\n",
        "X_tf_idf_word = tf_idf_word_vectorizer.fit_transform(X)"
      ],
      "execution_count": 36,
      "outputs": []
    },
    {
      "cell_type": "code",
      "metadata": {
        "id": "FnkK_Ylb6an4"
      },
      "source": [
        "tf_idf_ngram_vectorizer = TfidfVectorizer(ngram_range = (2,3))\n",
        "X_tf_idf_ngram = tf_idf_word_vectorizer.fit_transform(X)"
      ],
      "execution_count": 37,
      "outputs": []
    },
    {
      "cell_type": "markdown",
      "metadata": {
        "id": "-kKmfMLjC4qz"
      },
      "source": [
        "## Machine Learning Algorithms -->"
      ]
    },
    {
      "cell_type": "markdown",
      "metadata": {
        "id": "I8b-5Vh5C_dn"
      },
      "source": [
        "### 1. Logistic Regression -->"
      ]
    },
    {
      "cell_type": "code",
      "metadata": {
        "colab": {
          "base_uri": "https://localhost:8080/"
        },
        "id": "DhHVifr4DDCH",
        "outputId": "2bfafbb2-7df6-4073-9584-1436bcfce5f8"
      },
      "source": [
        "log_model = LogisticRegression().fit(X_tf_idf_word, y)\n",
        "\n",
        "cross_val_score(log_model, X_tf_idf_word, y, scoring = \"accuracy\", cv = 5).mean()"
      ],
      "execution_count": 38,
      "outputs": [
        {
          "output_type": "execute_result",
          "data": {
            "text/plain": [
              "0.8219999999999998"
            ]
          },
          "metadata": {},
          "execution_count": 38
        }
      ]
    },
    {
      "cell_type": "code",
      "metadata": {
        "colab": {
          "base_uri": "https://localhost:8080/"
        },
        "id": "dscDbhmzDgZH",
        "outputId": "e8de071e-15cf-47a5-932e-356e575bc2d3"
      },
      "source": [
        "random_review = pd.Series(restaurant_df[\"Review\"].sample(1).values)\n",
        "random_review"
      ],
      "execution_count": 47,
      "outputs": [
        {
          "output_type": "execute_result",
          "data": {
            "text/plain": [
              "0    pretty good beer selection\n",
              "dtype: object"
            ]
          },
          "metadata": {},
          "execution_count": 47
        }
      ]
    },
    {
      "cell_type": "code",
      "metadata": {
        "colab": {
          "base_uri": "https://localhost:8080/"
        },
        "id": "BGNXiIjTDwX-",
        "outputId": "c70120ec-ae6e-40dc-c1db-cb84132b3cca"
      },
      "source": [
        "new_comment = CountVectorizer().fit(X).transform(random_review)\n",
        "log_model.predict(new_comment)"
      ],
      "execution_count": 48,
      "outputs": [
        {
          "output_type": "execute_result",
          "data": {
            "text/plain": [
              "array([1])"
            ]
          },
          "metadata": {},
          "execution_count": 48
        }
      ]
    },
    {
      "cell_type": "markdown",
      "metadata": {
        "id": "GcwTWWbJD9DG"
      },
      "source": [
        "### 2. Random Forest -->"
      ]
    },
    {
      "cell_type": "code",
      "metadata": {
        "colab": {
          "base_uri": "https://localhost:8080/"
        },
        "id": "0cGtHakkEB2X",
        "outputId": "6b8278c5-450b-4fa8-b6f3-78ada0c6c5ff"
      },
      "source": [
        "rf_model = RandomForestClassifier().fit(x_count, y)\n",
        "print(cross_val_score(rf_model, x_count, y, cv = 5, n_jobs = -1 ).mean())"
      ],
      "execution_count": 49,
      "outputs": [
        {
          "output_type": "stream",
          "name": "stdout",
          "text": [
            "0.829\n"
          ]
        }
      ]
    },
    {
      "cell_type": "markdown",
      "metadata": {
        "id": "G1hM2iEYF8B_"
      },
      "source": [
        "#### TF-IDF Word-Level -->"
      ]
    },
    {
      "cell_type": "code",
      "metadata": {
        "colab": {
          "base_uri": "https://localhost:8080/"
        },
        "id": "D28QrnYwGB3t",
        "outputId": "c57039a7-edf8-4049-847f-4949a1457e3f"
      },
      "source": [
        "rf_model = RandomForestClassifier().fit(X_tf_idf_word, y)\n",
        "print(cross_val_score(rf_model, X_tf_idf_word, y, cv = 5, n_jobs = -1).mean())"
      ],
      "execution_count": 50,
      "outputs": [
        {
          "output_type": "stream",
          "name": "stdout",
          "text": [
            "0.8140000000000001\n"
          ]
        }
      ]
    },
    {
      "cell_type": "code",
      "metadata": {
        "colab": {
          "base_uri": "https://localhost:8080/"
        },
        "id": "FhxB195UGhI7",
        "outputId": "aee022bc-3af2-410f-8941-41ca855faf6d"
      },
      "source": [
        "rf_model = RandomForestClassifier().fit(X_tf_idf_ngram, y)\n",
        "print(cross_val_score(rf_model, X_tf_idf_ngram, y, cv=5, n_jobs=-1).mean())"
      ],
      "execution_count": 52,
      "outputs": [
        {
          "output_type": "stream",
          "name": "stdout",
          "text": [
            "0.807\n"
          ]
        }
      ]
    },
    {
      "cell_type": "markdown",
      "metadata": {
        "id": "W-0p7vvBGlOo"
      },
      "source": [
        "#### Hyperparameter Optimization --->"
      ]
    },
    {
      "cell_type": "code",
      "metadata": {
        "colab": {
          "base_uri": "https://localhost:8080/"
        },
        "id": "crC3oYtPGrYH",
        "outputId": "42367698-43f1-4f60-ae7f-39ebae387961"
      },
      "source": [
        "rf_model = RandomForestClassifier(random_state = 17)\n",
        "\n",
        "rf_params = {\"max_depth\": [5,8, None],\n",
        "             \"max_features\": [5,7,\"auto\"],\n",
        "             \"min_samples_split\": [2,5,8,20],\n",
        "             \"n_estimators\": [100,200,500]}\n",
        "\n",
        "\n",
        "rf_best_grid = GridSearchCV(rf_model,\n",
        "                            rf_params,\n",
        "                            cv = 5,\n",
        "                            n_jobs = -1, \n",
        "                            verbose = True).fit(x_count, y)\n",
        "\n",
        "rf_best_grid.best_params_\n",
        "\n",
        "rf_final = rf_model.set_params(**rf_best_grid.best_params_, random_state = 17).fit(x_count, y)\n",
        "\n",
        "cv_results = cross_validate(rf_final, x_count, y, cv = 3, scoring = [\"accuracy\", \"f1\", \"roc_auc\"])\n",
        "\n",
        "cv_results['test_accuracy'].mean()\n",
        "cv_results['test_f1'].mean()\n",
        "cv_results['test_roc_auc'].mean()"
      ],
      "execution_count": 53,
      "outputs": [
        {
          "output_type": "stream",
          "name": "stdout",
          "text": [
            "Fitting 5 folds for each of 108 candidates, totalling 540 fits\n"
          ]
        },
        {
          "output_type": "execute_result",
          "data": {
            "text/plain": [
              "0.8989518421780992"
            ]
          },
          "metadata": {},
          "execution_count": 53
        }
      ]
    },
    {
      "cell_type": "markdown",
      "metadata": {
        "id": "WcY8l4sHF-RU"
      },
      "source": [
        "## Algorithm Test -->"
      ]
    },
    {
      "cell_type": "code",
      "metadata": {
        "id": "3Lz41gxcGO87"
      },
      "source": [
        "alg_visual = [[\"Random Forest\", 0.90], [\"Logistic Regression\", 0.82]]"
      ],
      "execution_count": 58,
      "outputs": []
    },
    {
      "cell_type": "code",
      "metadata": {
        "id": "T4hSnHbrHcb7"
      },
      "source": [
        "label_names = [\"Algorithm\", \"Accuracy\"]"
      ],
      "execution_count": 59,
      "outputs": []
    },
    {
      "cell_type": "code",
      "metadata": {
        "colab": {
          "base_uri": "https://localhost:8080/"
        },
        "id": "drLeDEBgKbyJ",
        "outputId": "5df25ce5-33cc-453b-c5ac-ccfa943e263a"
      },
      "source": [
        "graph = pd.DataFrame(data= alg_visual, columns= label_names)\n",
        "print(graph)"
      ],
      "execution_count": 60,
      "outputs": [
        {
          "output_type": "stream",
          "name": "stdout",
          "text": [
            "             Algorithm  Accuracy\n",
            "0        Random Forest      0.90\n",
            "1  Logistic Regression      0.82\n"
          ]
        }
      ]
    },
    {
      "cell_type": "code",
      "metadata": {
        "colab": {
          "base_uri": "https://localhost:8080/",
          "height": 497
        },
        "id": "-IH0oP28KpxK",
        "outputId": "ecaee6b5-6658-4471-c350-9cc14f78b2e9"
      },
      "source": [
        "import matplotlib.pyplot as plt\n",
        "import seaborn as sns\n",
        "plt.figure(figsize = (10,8))\n",
        "sns.barplot( x = \"Algorithm\", y = graph.Accuracy, data = graph);"
      ],
      "execution_count": 62,
      "outputs": [
        {
          "output_type": "display_data",
          "data": {
            "image/png": "[encoded data removed]",
            "text/plain": [
              "<Figure size 720x576 with 1 Axes>"
            ]
          },
          "metadata": {
            "needs_background": "light"
          }
        }
      ]
    },
    {
      "cell_type": "code",
      "metadata": {
        "id": "20PfULKTKyg4"
      },
      "source": [
        "comment_ = 'this place look like wonderland'\n",
        "comment_list = []\n",
        "comment_list.append(comment_)"
      ],
      "execution_count": 63,
      "outputs": []
    },
    {
      "cell_type": "code",
      "metadata": {
        "id": "gontub9hLJrP"
      },
      "source": [
        "comment_transforming = vectorizer.transform(comment_list)"
      ],
      "execution_count": 64,
      "outputs": []
    },
    {
      "cell_type": "code",
      "metadata": {
        "id": "SjqcVcRhLgAh"
      },
      "source": [
        "comment_toarray = comment_transforming.toarray()"
      ],
      "execution_count": 65,
      "outputs": []
    },
    {
      "cell_type": "code",
      "metadata": {
        "colab": {
          "base_uri": "https://localhost:8080/"
        },
        "id": "mjEhhJRWL1ib",
        "outputId": "0c5ae00c-c045-4770-913d-5acfa311dea3"
      },
      "source": [
        "rf_model.predict(comment_toarray)"
      ],
      "execution_count": 66,
      "outputs": [
        {
          "output_type": "execute_result",
          "data": {
            "text/plain": [
              "array([1])"
            ]
          },
          "metadata": {},
          "execution_count": 66
        }
      ]
    }
  ]
}